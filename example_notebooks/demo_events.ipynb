{
 "cells": [
  {
   "cell_type": "code",
   "execution_count": null,
   "outputs": [],
   "source": [
    "import pandas as pd\n",
    "from neuralprophet.neural_prophet import NeuralProphet"
   ],
   "metadata": {
    "collapsed": false,
    "pycharm": {
     "name": "#%%\n"
    }
   }
  },
  {
   "cell_type": "code",
   "execution_count": null,
   "outputs": [],
   "source": [
    "df = pd.read_csv('../example_data/example_wp_log_peyton_manning.csv')"
   ],
   "metadata": {
    "collapsed": false,
    "pycharm": {
     "name": "#%%\n"
    }
   }
  },
  {
   "cell_type": "markdown",
   "source": [
    "# Events\n",
    "\n",
    "Events can be added as both additive and multiplicative."
   ],
   "metadata": {
    "collapsed": false
   }
  },
  {
   "cell_type": "markdown",
   "source": [
    "##  Additive Events"
   ],
   "metadata": {
    "collapsed": false
   }
  },
  {
   "cell_type": "code",
   "execution_count": null,
   "outputs": [],
   "source": [
    "## user specified events\n",
    "# history events\n",
    "playoffs_history = pd.DataFrame({\n",
    "        'event': 'playoff',\n",
    "        'ds': pd.to_datetime(['2008-01-13', '2009-01-03', '2010-01-16',\n",
    "                              '2010-01-24', '2010-02-07', '2011-01-08',\n",
    "                              '2013-01-12', '2014-01-12', '2014-01-19',\n",
    "                              '2014-02-02', '2015-01-11', '2016-01-17']),\n",
    "    })\n",
    "\n",
    "superbowls_history = pd.DataFrame({\n",
    "    'event': 'superbowl',\n",
    "    'ds': pd.to_datetime(['2010-02-07', '2014-02-02', '2016-02-07']),\n",
    "    })\n",
    "\n",
    "history_events_df = pd.concat((playoffs_history, superbowls_history))"
   ],
   "metadata": {
    "collapsed": false,
    "pycharm": {
     "name": "#%%\n"
    }
   }
  },
  {
   "cell_type": "code",
   "execution_count": null,
   "outputs": [],
   "source": [
    "# future values of events\n",
    "playoffs_future = pd.DataFrame({\n",
    "    'event': 'playoff',\n",
    "    'ds': pd.to_datetime(['2016-01-24', '2016-02-07'])\n",
    "})\n",
    "\n",
    "superbowl_future = pd.DataFrame({\n",
    "    'event': 'superbowl',\n",
    "    'ds': pd.to_datetime(['2016-02-07'])\n",
    "})\n",
    "\n",
    "future_events_df = pd.concat((playoffs_future, superbowl_future))"
   ],
   "metadata": {
    "collapsed": false,
    "pycharm": {
     "name": "#%%\n"
    }
   }
  },
  {
   "cell_type": "code",
   "execution_count": null,
   "outputs": [],
   "source": [
    "# NeuralProphet Object\n",
    "m = NeuralProphet(\n",
    "        n_lags=15,\n",
    "        n_forecasts=10,\n",
    "        yearly_seasonality=False,\n",
    "        weekly_seasonality=False,\n",
    "        daily_seasonality=False,\n",
    "    )\n",
    "\n",
    "# set event configs to NeuralProphet object\n",
    "m = m.add_events([\"superbowl\", \"playoff\"])\n",
    "\n",
    "# create the data df with events\n",
    "history_df = m.create_df_with_events(df, history_events_df)\n",
    "\n",
    "# fit the model\n",
    "metrics = m.fit(history_df)\n",
    "metrics"
   ],
   "metadata": {
    "collapsed": false,
    "pycharm": {
     "name": "#%%\n"
    }
   }
  },
  {
   "cell_type": "code",
   "execution_count": null,
   "outputs": [],
   "source": [
    "# forecast with events\n",
    "future = m.make_future_dataframe(df=history_df, events_df=future_events_df, future_periods=10, n_historic_predictions=3)\n",
    "forecast = m.predict(df=future)\n"
   ],
   "metadata": {
    "collapsed": false,
    "pycharm": {
     "name": "#%%\n"
    }
   }
  },
  {
   "cell_type": "code",
   "execution_count": null,
   "outputs": [],
   "source": [
    "## plotting forecasts\n",
    "m.plot(forecast)"
   ],
   "metadata": {
    "collapsed": false,
    "pycharm": {
     "name": "#%%\n"
    }
   }
  },
  {
   "cell_type": "code",
   "execution_count": null,
   "outputs": [],
   "source": [
    "## plotting components\n",
    "fig_comp = m.plot_components(forecast)"
   ],
   "metadata": {
    "collapsed": false,
    "pycharm": {
     "name": "#%%\n"
    }
   }
  },
  {
   "cell_type": "code",
   "execution_count": null,
   "outputs": [],
   "source": [
    "## plotting parameters\n",
    "fig_param = m.plot_parameters()"
   ],
   "metadata": {
    "collapsed": false,
    "pycharm": {
     "name": "#%%\n"
    }
   }
  },
  {
   "cell_type": "markdown",
   "source": [
    "## Event Windows"
   ],
   "metadata": {
    "collapsed": false
   }
  },
  {
   "cell_type": "code",
   "execution_count": null,
   "outputs": [],
   "source": [
    "m = NeuralProphet(\n",
    "        n_lags=15,\n",
    "        n_forecasts=10,\n",
    "        yearly_seasonality=False,\n",
    "        weekly_seasonality=False,\n",
    "        daily_seasonality=False,\n",
    "    )\n",
    "\n",
    "# set event configs to NeuralProphet object with windows\n",
    "m = m.add_events([\"superbowl\", \"playoff\"], lower_window=-1, upper_window=1)\n",
    "\n",
    "# create the data df with events\n",
    "history_df = m.create_df_with_events(df, history_events_df)\n",
    "\n",
    "# fit the model\n",
    "metrics = m.fit(history_df)"
   ],
   "metadata": {
    "collapsed": false,
    "pycharm": {
     "name": "#%%\n"
    }
   }
  },
  {
   "cell_type": "code",
   "execution_count": null,
   "outputs": [],
   "source": [
    "# make future dataframe with events known in future\n",
    "future = m.make_future_dataframe(df=history_df, events_df=future_events_df, future_periods=10, n_historic_predictions=3)\n",
    "forecast = m.predict(df=future)"
   ],
   "metadata": {
    "collapsed": false,
    "pycharm": {
     "name": "#%%\n"
    }
   }
  },
  {
   "cell_type": "code",
   "execution_count": null,
   "outputs": [],
   "source": [
    "## plotting components\n",
    "fig_comp = m.plot_components(forecast)"
   ],
   "metadata": {
    "collapsed": false,
    "pycharm": {
     "name": "#%%\n"
    }
   }
  },
  {
   "cell_type": "code",
   "execution_count": null,
   "outputs": [],
   "source": [
    "## plotting parameters\n",
    "fig_param = m.plot_parameters()"
   ],
   "metadata": {
    "collapsed": false,
    "pycharm": {
     "name": "#%%\n"
    }
   }
  },
  {
   "cell_type": "code",
   "execution_count": null,
   "outputs": [],
   "source": [
    "#### different windows for different events\n",
    "m = NeuralProphet(\n",
    "        n_lags=15,\n",
    "        n_forecasts=10,\n",
    "        yearly_seasonality=False,\n",
    "        weekly_seasonality=False,\n",
    "        daily_seasonality=False,\n",
    "    )\n",
    "\n",
    "# set event configs to NeuralProphet object with windows\n",
    "m = m.add_events(\"playoff\", lower_window=-1, upper_window=1)\n",
    "m = m.add_events(\"superbowl\", upper_window=1)\n",
    "\n",
    "# create the data df with events\n",
    "history_df = m.create_df_with_events(df, history_events_df)\n",
    "\n",
    "# fit the model\n",
    "metrics = m.fit(history_df)"
   ],
   "metadata": {
    "collapsed": false,
    "pycharm": {
     "name": "#%%\n"
    }
   }
  },
  {
   "cell_type": "code",
   "execution_count": null,
   "outputs": [],
   "source": [
    "# make future dataframe with events known in future\n",
    "future = m.make_future_dataframe(df=history_df, events_df=future_events_df, future_periods=10, n_historic_predictions=3)\n",
    "forecast = m.predict(df=future)"
   ],
   "metadata": {
    "collapsed": false,
    "pycharm": {
     "name": "#%%\n"
    }
   }
  },
  {
   "cell_type": "code",
   "execution_count": null,
   "outputs": [],
   "source": [
    "## plotting components\n",
    "fig_comp = m.plot_components(forecast)"
   ],
   "metadata": {
    "collapsed": false,
    "pycharm": {
     "name": "#%%\n"
    }
   }
  },
  {
   "cell_type": "code",
   "execution_count": null,
   "outputs": [],
   "source": [
    "## plotting parameters\n",
    "fig_param = m.plot_parameters()"
   ],
   "metadata": {
    "collapsed": false,
    "pycharm": {
     "name": "#%%\n"
    }
   }
  },
  {
   "cell_type": "markdown",
   "source": [
    "## Multiplicative Events"
   ],
   "metadata": {
    "collapsed": false
   }
  },
  {
   "cell_type": "code",
   "execution_count": null,
   "outputs": [],
   "source": [
    "m = NeuralProphet(\n",
    "        n_lags=15,\n",
    "        n_forecasts=10,\n",
    "        yearly_seasonality=False,\n",
    "        weekly_seasonality=False,\n",
    "        daily_seasonality=False,\n",
    "    )\n",
    "\n",
    "# set event configs to NeuralProphet object with windows\n",
    "m = m.add_events([\"superbowl\", \"playoff\"], lower_window=-1, upper_window=1, mode=\"multiplicative\")\n",
    "\n",
    "# create the data df with events\n",
    "history_df = m.create_df_with_events(df, history_events_df)\n",
    "\n",
    "# fit the model\n",
    "metrics = m.fit(history_df)"
   ],
   "metadata": {
    "collapsed": false,
    "pycharm": {
     "name": "#%%\n"
    }
   }
  },
  {
   "cell_type": "code",
   "execution_count": null,
   "outputs": [],
   "source": [
    "# make future dataframe with events known in future\n",
    "future = m.make_future_dataframe(df=history_df, events_df=future_events_df, future_periods=10, n_historic_predictions=3)\n",
    "forecast = m.predict(df=future)"
   ],
   "metadata": {
    "collapsed": false,
    "pycharm": {
     "name": "#%%\n"
    }
   }
  },
  {
   "cell_type": "code",
   "execution_count": null,
   "outputs": [],
   "source": [
    "## plotting components\n",
    "fig_comp = m.plot_components(forecast)"
   ],
   "metadata": {
    "collapsed": false,
    "pycharm": {
     "name": "#%%\n"
    }
   }
  },
  {
   "cell_type": "code",
   "execution_count": null,
   "outputs": [],
   "source": [
    "# plot parameters\n",
    "fig_param = m.plot_parameters()"
   ],
   "metadata": {
    "collapsed": false,
    "pycharm": {
     "name": "#%%\n"
    }
   }
  },
  {
   "cell_type": "markdown",
   "source": [
    "## Country Specific Holidays"
   ],
   "metadata": {
    "collapsed": false
   }
  },
  {
   "cell_type": "code",
   "execution_count": null,
   "outputs": [],
   "source": [
    "m = NeuralProphet(\n",
    "        n_lags=15,\n",
    "        n_forecasts=10,\n",
    "        yearly_seasonality=False,\n",
    "        weekly_seasonality=False,\n",
    "        daily_seasonality=False,\n",
    "    )\n",
    "\n",
    "# add the country specific holidays\n",
    "m = m.add_country_holidays(\"US\", mode=\"additive\", lower_window=-1, upper_window=1)\n",
    "\n",
    "# fit the model\n",
    "metrics = m.fit(df)"
   ],
   "metadata": {
    "collapsed": false,
    "pycharm": {
     "name": "#%%\n"
    }
   }
  },
  {
   "cell_type": "code",
   "execution_count": null,
   "outputs": [],
   "source": [
    "# make future dataframe with events known in future\n",
    "future = m.make_future_dataframe(df=df, future_periods=10, n_historic_predictions=3)\n",
    "forecast = m.predict(df=future)"
   ],
   "metadata": {
    "collapsed": false,
    "pycharm": {
     "name": "#%%\n"
    }
   }
  },
  {
   "cell_type": "code",
   "execution_count": null,
   "outputs": [],
   "source": [
    "## plotting components\n",
    "fig_comp = m.plot_components(forecast)"
   ],
   "metadata": {
    "collapsed": false,
    "pycharm": {
     "name": "#%%\n"
    }
   }
  },
  {
   "cell_type": "code",
   "execution_count": null,
   "outputs": [],
   "source": [
    "## plotting components\n",
    "fig_param = m.plot_parameters()"
   ],
   "metadata": {
    "collapsed": false,
    "pycharm": {
     "name": "#%%\n"
    }
   }
  },
  {
   "cell_type": "markdown",
   "source": [
    "## Regularization for Events"
   ],
   "metadata": {
    "collapsed": false
   }
  },
  {
   "cell_type": "code",
   "execution_count": null,
   "outputs": [],
   "source": [
    "m = NeuralProphet(\n",
    "        n_lags=15,\n",
    "        n_forecasts=10,\n",
    "        yearly_seasonality=False,\n",
    "        weekly_seasonality=False,\n",
    "        daily_seasonality=False,\n",
    "    )\n",
    "\n",
    "# set event configs to NeuralProphet object with windows\n",
    "m = m.add_events([\"superbowl\", \"playoff\"], regularization=0.05)\n",
    "\n",
    "# create the data df with events\n",
    "history_df = m.create_df_with_events(df, history_events_df)\n",
    "\n",
    "# fit the model\n",
    "metrics = m.fit(history_df)\n",
    "metrics"
   ],
   "metadata": {
    "collapsed": false,
    "pycharm": {
     "name": "#%%\n"
    }
   }
  },
  {
   "cell_type": "code",
   "execution_count": null,
   "outputs": [],
   "source": [
    "# make future dataframe with events known in future\n",
    "future = m.make_future_dataframe(df=history_df, events_df=future_events_df, future_periods=10, n_historic_predictions=3)\n",
    "forecast = m.predict(df=future)"
   ],
   "metadata": {
    "collapsed": false,
    "pycharm": {
     "name": "#%%\n"
    }
   }
  },
  {
   "cell_type": "code",
   "execution_count": null,
   "outputs": [],
   "source": [
    "## plotting components\n",
    "fig_param = m.plot_parameters()"
   ],
   "metadata": {
    "collapsed": false,
    "pycharm": {
     "name": "#%%\n"
    }
   }
  },
  {
   "cell_type": "code",
   "execution_count": null,
   "outputs": [],
   "source": [
    "## plotting components\n",
    "fig_comp = m.plot_components(forecast)"
   ],
   "metadata": {
    "collapsed": false,
    "pycharm": {
     "name": "#%%\n"
    }
   }
  }
 ],
 "metadata": {
  "kernelspec": {
   "display_name": "Python 3",
   "language": "python",
   "name": "python3"
  },
  "language_info": {
   "codemirror_mode": {
    "name": "ipython",
    "version": 3
   },
   "file_extension": ".py",
   "mimetype": "text/x-python",
   "name": "python",
   "nbconvert_exporter": "python",
   "pygments_lexer": "ipython3",
   "version": "3.7.7"
  }
 },
 "nbformat": 4,
 "nbformat_minor": 1
}